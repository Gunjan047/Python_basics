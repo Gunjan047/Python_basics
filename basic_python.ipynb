{
  "nbformat": 4,
  "nbformat_minor": 0,
  "metadata": {
    "colab": {
      "provenance": []
    },
    "kernelspec": {
      "name": "python3",
      "display_name": "Python 3"
    },
    "language_info": {
      "name": "python"
    }
  },
  "cells": [
    {
      "cell_type": "code",
      "execution_count": null,
      "metadata": {
        "id": "9iIUfhIgp4hb"
      },
      "outputs": [],
      "source": []
    },
    {
      "cell_type": "markdown",
      "source": [
        "# **ASSIGNMENT**"
      ],
      "metadata": {
        "id": "w-CojZx-cv24"
      }
    },
    {
      "cell_type": "markdown",
      "source": [
        "  #   PYTHON BASICS"
      ],
      "metadata": {
        "id": "encieEqTrLTf"
      }
    },
    {
      "cell_type": "markdown",
      "source": [
        "1 -> What is Python, and why is it popular ?\n",
        "\n",
        "- Python is a high-level, interpreted, general-purpose programming language.\n",
        "-Huge collection of libraries, framework and third-party packages for various domains.\n",
        "-Easy to read and write making it a popular language among developers and programmers.\n",
        "-Simple syntax\n",
        "-Active community of developers."
      ],
      "metadata": {
        "id": "QGy44gRLrZna"
      }
    },
    {
      "cell_type": "markdown",
      "source": [
        "2 -> What is an interpreter in Python?\n",
        " - An interpreter in Python is a program that reads and executes your Python code line by line.\n",
        "\n",
        "   Instead of compiling the entire program into machine code at once (like in C or C++), Python runs each line one at a time using the interpreter.\n",
        "\n"
      ],
      "metadata": {
        "id": "Jd91vBrNyQ0h"
      }
    },
    {
      "cell_type": "markdown",
      "source": [
        "3-> What are pre-defined keywords in Python ?\n",
        "\n",
        " - Keywords are reserved words in Python that have special meanings and cannot be used as identifiers (variable names, function names, etc.).\n",
        "\n",
        "- Examples of keywords include if, else, while, for, def, class, import, try, except, return, True, False, None, etc.\n",
        "\n",
        "- Keywords are case-sensitive and cannot be redefined or overridden within a Python program."
      ],
      "metadata": {
        "id": "CV8LiVK22cG-"
      }
    },
    {
      "cell_type": "markdown",
      "source": [
        "4-> Can keywords be used as variable names ?\n",
        "\n",
        "  - keywords cannot be used as variable. Keywords are reserved words that have special meaning in Python. Using them as variable names would confuse the interpreter because it wouldn't know if you're referring to the keyword or a variable."
      ],
      "metadata": {
        "id": "pZYpnGMBX8DW"
      }
    },
    {
      "cell_type": "markdown",
      "source": [
        "5-> What is mutability in Python ?\n",
        "\n",
        "- Mutability refers to whether an object’s value can be changed after it is created.\n",
        "\n",
        "- These can be changed in place.\n",
        "\n",
        "Examples:-\n",
        "\n",
        "      - list\n",
        "\n",
        "      - dictionary\n",
        "\n",
        "      - sets\n"
      ],
      "metadata": {
        "id": "zhkX4SgRYv3j"
      }
    },
    {
      "cell_type": "markdown",
      "source": [
        "6->  Why are lists mutable, but tuples are immutable ?\n",
        "\n",
        "- Lists are mutable in Python because their design includes methods and operations that allow for in-place modification of their elements, such as appending, inserting, deleting, or reassigning items at specific indices. This mutability means that the content and size of a list can be altered after its creation without creating a new list object.\n",
        "\n",
        "- Tuples, on the other hand, are immutable by design. This means that once a tuple is created, its elements cannot be changed, added, or removed. If a modification is needed, a new tuple with the desired changes must be created. This immutability provides several benefits"
      ],
      "metadata": {
        "id": "F70hAYH9Zxbh"
      }
    },
    {
      "cell_type": "markdown",
      "source": [
        "7-> What is the difference between “==” and “is” operators in Python ?\n",
        "\n",
        "  - In Python, == and is are both comparison operators, but they serve distinct purposes:\n",
        "- == (Equality Operator):\n",
        "This operator compares the values of two objects.\n",
        "It returns True if the values contained within the objects are equivalent, regardless of whether they are the same object in memory.\n",
        "This is the operator typically used when comparing the content of variables, such as numbers, strings, or lists.\n",
        "\n",
        "- is (Identity Operator):\n",
        "This operator compares the identity of two objects.\n",
        "It returns True if two variables refer to the exact same object in memory. This means they point to the same memory address.\n",
        "This operator is commonly used to check if two references are truly pointing to the identical instance of an object, especially for singletons like None or when optimizing for memory usage."
      ],
      "metadata": {
        "id": "cCWc0SzJcLGJ"
      }
    },
    {
      "cell_type": "markdown",
      "source": [
        "8->  What are logical operators in Python ?\n",
        "\n",
        " - In Python, logical operators are used to combine conditional statements and evaluate expressions that result in Boolean (True or False) values. These operators enable you to create more complex decision-making structures within your code.\n",
        "\n",
        "Python has three main logical operators:\n",
        "\n",
        "- and: Returns True if both conditions are true. For example, x > 0 and y > 0 is true only if both x and y are positive.\n",
        "\n",
        "- or: Returns True if at least one condition is true. For example, x > 0 or y > 0 is true if either x or y (or both) are positive.\n",
        "\n",
        "- not: Reverses the Boolean value of an expression. For example, not x is true if x is false.\n",
        "\n",
        "-\n"
      ],
      "metadata": {
        "id": "kRmRJGJOe8rT"
      }
    },
    {
      "cell_type": "markdown",
      "source": [
        "9-> What is type casting in Python ?\n",
        "\n",
        "- Type casting (also called type conversion) is the process of converting the data type of a value from one type to another.\n",
        "\n",
        "Python Type Casting is a process in which we convert a literal of one data type to another data type. Python supports two types of casting − implicit and explicit.\n",
        "\n",
        " Python provides built-in functions for type casting, such as int(), float(), str(), list(), tuple(), dict(), etc.\n",
        "\n",
        "\n"
      ],
      "metadata": {
        "id": "hTR887hUfrMr"
      }
    },
    {
      "cell_type": "markdown",
      "source": [
        "10->What is the difference between implicit and explicit type casting ?\n",
        "\n",
        "  - Implicit Type Conversion (Coercion):\n",
        "\n",
        "  This type of conversion is automatically performed by the Python interpreter without any explicit action from the programmer.\n",
        "\n",
        "  Mechanism:\n",
        "  Python automatically converts one data type to another, typically to prevent data loss or to allow operations between compatible but different types.\n",
        "\n",
        "\n",
        " - Explicit Type Conversion :\n",
        "\n",
        " This type of conversion is performed by the programmer using built-in functions or constructors to explicitly convert a value from one data type to another.\n",
        "\n",
        "  Mechanism:\n",
        "The programmer specifically calls functions like int(), float(), str(), list(), tuple(), etc., to enforce the desired type conversion."
      ],
      "metadata": {
        "id": "emBc6F8VLmu9"
      }
    },
    {
      "cell_type": "markdown",
      "source": [
        "11-> What is the purpose of conditional statements in Python ?\n",
        "\n",
        " - The purpose of conditional statements in Python is to allow a program to make decisions and execute different code blocks based on whether a condition is true or false.\n",
        "\n",
        " Python has 3 key Conditional Statements:\n",
        "\n",
        "     - if statement\n",
        "     - if-else statement\n",
        "     - if-elif-else"
      ],
      "metadata": {
        "id": "v8Cs80ifFPt6"
      }
    },
    {
      "cell_type": "markdown",
      "source": [
        "12-> How does the elif statement work ?\n",
        "\n",
        " - The elif statement in Python stands for \"else if\". It allows you to check multiple conditions one after another, and execute code for the first condition that is true.\n",
        "\n",
        " -It works in steps-\n",
        "\n",
        "  - Python checks the if condition first.\n",
        "\n",
        "  - If the if condition is False, it checks the first elif condition.\n",
        "\n",
        "  - If that is also False, it continues checking other elif conditions (if any).\n",
        "\n",
        "  - If none of the if or elif conditions are True, and there is an else block, it runs the code inside else."
      ],
      "metadata": {
        "id": "sjK-0eHsRsAg"
      }
    },
    {
      "cell_type": "markdown",
      "source": [
        "13->What is the difference between for and while loops ?\n",
        "\n",
        " - Both for loops and while loops are control flow structures in programming that allow you to repeatedly execute a block of code. However, they differ in their syntax and use cases.\n",
        "\n",
        " - For Loop in Programming:\n",
        "\n",
        "  The for loop is used when you know in advance how many times you want to execute the block of code.\n",
        "\n",
        "  It iterates over a sequence (e.g., a list, tuple, string, or range) and executes the block of code for each item in the sequence.\n",
        "The loop variable (variable) takes the value of each item in the sequence during each iteration.\n",
        "\n",
        "- While Loop in Programming:\n",
        "\n",
        " The while loop is used when you don't know in advance how many times you want to execute the block of code. It continues to execute as long as the specified condition is true.\n",
        "\n",
        " It's important to make sure that the condition eventually becomes false; otherwise, the loop will run indefinitely, resulting in an infinite loop."
      ],
      "metadata": {
        "id": "LRXf21GeUDuJ"
      }
    },
    {
      "cell_type": "markdown",
      "source": [
        "14-> Describe a scenario where a while loop is more suitable than a for loop?\n",
        "\n",
        "-  A while loop shines when the number of iterations isn’t known beforehand—perfect for situations that depend on external conditions or user interaction.\n"
      ],
      "metadata": {
        "id": "o7CkPPJIgwFo"
      }
    },
    {
      "cell_type": "code",
      "source": [
        "#14 -lets say we are building an ATM system where a user must enter the correct 4-digit PIN\n",
        "correct_pin = \"GUNJ\"\n",
        "entered_pin = input(\"Enter your PIN: \")\n",
        "\n",
        "while entered_pin != correct_pin:\n",
        "    print(\"Incorrect PIN. Try again.\")\n",
        "    entered_pin = input(\"Enter your PIN: \")\n",
        "\n",
        "print(\"PIN accepted. Access granted.\")\n"
      ],
      "metadata": {
        "colab": {
          "base_uri": "https://localhost:8080/"
        },
        "id": "jkxkZkGlEmd4",
        "outputId": "b15e8820-93bb-4837-b5dd-ea0344e1b5b9"
      },
      "execution_count": null,
      "outputs": [
        {
          "output_type": "stream",
          "name": "stdout",
          "text": [
            "Enter your PIN: GUNJ\n",
            "PIN accepted. Access granted.\n"
          ]
        }
      ]
    },
    {
      "cell_type": "markdown",
      "source": [
        " Why while is better than for:\n",
        "\n",
        "- You don't know how many attempts the user will need.\n",
        "\n",
        "- The loop continues based on a condition (correct PIN), not a fixed range.\n",
        "\n",
        "- A for loop is typically used when the number of iterations is known."
      ],
      "metadata": {
        "id": "z814FDdyF3vC"
      }
    },
    {
      "cell_type": "markdown",
      "source": [
        "#**PRACTICAL** **QUESTIONS**"
      ],
      "metadata": {
        "id": "NojY3xPEHFkK"
      }
    },
    {
      "cell_type": "code",
      "source": [
        "#1 -> Write a Python program to print \"Hello, World!\n",
        "print (\"Hello, World!\")\n"
      ],
      "metadata": {
        "colab": {
          "base_uri": "https://localhost:8080/"
        },
        "id": "WOPLk9keHuAz",
        "outputId": "092a3b26-fede-4b79-bdf2-77c59275bd3f"
      },
      "execution_count": null,
      "outputs": [
        {
          "output_type": "stream",
          "name": "stdout",
          "text": [
            "Hello, World!\n"
          ]
        }
      ]
    },
    {
      "cell_type": "code",
      "source": [
        "#2-> Write a Python program that displays your name and age\n",
        "Name=(\"Gunjan Uikey\")\n",
        "Age=28\n",
        "\n",
        "print(\"Hey my name is\",Name)\n",
        "print(\"My age is\",Age)"
      ],
      "metadata": {
        "colab": {
          "base_uri": "https://localhost:8080/"
        },
        "id": "-mN0SiXAIEnu",
        "outputId": "55518938-a627-4eb8-eff2-b15ddd3c16c7"
      },
      "execution_count": null,
      "outputs": [
        {
          "output_type": "stream",
          "name": "stdout",
          "text": [
            "Hey my name is Gunjan Uikey\n",
            "My age is 28\n"
          ]
        }
      ]
    },
    {
      "cell_type": "code",
      "source": [
        "#3-> Write code to print all the pre-defined keywords in Python using the keyword libraryimport keyword\n",
        "\n",
        "import keyword\n",
        "\n",
        "# Get the list of all keywords\n",
        "keywords = keyword.kwlist\n",
        "\n",
        "# Print each keyword\n",
        "print(\"Predefined Python keywords:\")\n",
        "for kw in keywords:\n",
        "    print(kw)\n"
      ],
      "metadata": {
        "colab": {
          "base_uri": "https://localhost:8080/"
        },
        "id": "Og0CNLGxJIWt",
        "outputId": "cee70a73-7108-44ef-f5ff-a410b08aae39"
      },
      "execution_count": null,
      "outputs": [
        {
          "output_type": "stream",
          "name": "stdout",
          "text": [
            "Predefined Python keywords:\n",
            "False\n",
            "None\n",
            "True\n",
            "and\n",
            "as\n",
            "assert\n",
            "async\n",
            "await\n",
            "break\n",
            "class\n",
            "continue\n",
            "def\n",
            "del\n",
            "elif\n",
            "else\n",
            "except\n",
            "finally\n",
            "for\n",
            "from\n",
            "global\n",
            "if\n",
            "import\n",
            "in\n",
            "is\n",
            "lambda\n",
            "nonlocal\n",
            "not\n",
            "or\n",
            "pass\n",
            "raise\n",
            "return\n",
            "try\n",
            "while\n",
            "with\n",
            "yield\n"
          ]
        }
      ]
    },
    {
      "cell_type": "code",
      "source": [
        "#4-> Write a program that checks if a given word is a Python keyword.\n",
        "import keyword\n",
        "\n",
        "# Get input from the user\n",
        "word = input(\"Enter a word: \")\n",
        "\n",
        "# Check if the word is a Python keyword\n",
        "if keyword.iskeyword(word):\n",
        "    print(f\"'{word}' is a Python keyword.\")\n",
        "else:\n",
        "    print(f\"'{word}' is NOT a Python keyword.\")\n"
      ],
      "metadata": {
        "colab": {
          "base_uri": "https://localhost:8080/"
        },
        "id": "kMEqBh1dKq55",
        "outputId": "80d49ab6-6557-49bf-ebdd-14d3a22d5048"
      },
      "execution_count": null,
      "outputs": [
        {
          "output_type": "stream",
          "name": "stdout",
          "text": [
            "Enter a word: hello\n",
            "'hello' is NOT a Python keyword.\n"
          ]
        }
      ]
    },
    {
      "cell_type": "code",
      "source": [
        "#5-> Create a list and tuple in Python, and demonstrate how attempting to change an element works differently for each.\n",
        "\n",
        "my_list = [1, 2, 3]\n",
        "\n",
        "my_tuple = (1, 2, 3)\n",
        "\n",
        "# Changing an element in the list\n",
        "my_list[0] = 10\n",
        "print(\"Modified list:\", my_list)  # This will work\n",
        "\n",
        "# Trying to change an element in the tuple\n",
        "my_tuple[0] = 10  #It cause error\n",
        "\n",
        "\n",
        "#List: Mutable — You can change elements after the list is created.\n",
        "\n",
        "# Tuple: Immutable — You cannot change elements once the tuple is created."
      ],
      "metadata": {
        "id": "V5N1AZXyOW8j",
        "colab": {
          "base_uri": "https://localhost:8080/",
          "height": 240
        },
        "outputId": "258bbacc-25ba-440f-ab4f-64106d31ac2b"
      },
      "execution_count": null,
      "outputs": [
        {
          "output_type": "stream",
          "name": "stdout",
          "text": [
            "Modified list: [10, 2, 3]\n"
          ]
        },
        {
          "output_type": "error",
          "ename": "TypeError",
          "evalue": "'tuple' object does not support item assignment",
          "traceback": [
            "\u001b[0;31m---------------------------------------------------------------------------\u001b[0m",
            "\u001b[0;31mTypeError\u001b[0m                                 Traceback (most recent call last)",
            "\u001b[0;32m/tmp/ipython-input-1-3330063340.py\u001b[0m in \u001b[0;36m<cell line: 0>\u001b[0;34m()\u001b[0m\n\u001b[1;32m     10\u001b[0m \u001b[0;34m\u001b[0m\u001b[0m\n\u001b[1;32m     11\u001b[0m \u001b[0;31m# Trying to change an element in the tuple\u001b[0m\u001b[0;34m\u001b[0m\u001b[0;34m\u001b[0m\u001b[0m\n\u001b[0;32m---> 12\u001b[0;31m \u001b[0mmy_tuple\u001b[0m\u001b[0;34m[\u001b[0m\u001b[0;36m0\u001b[0m\u001b[0;34m]\u001b[0m \u001b[0;34m=\u001b[0m \u001b[0;36m10\u001b[0m  \u001b[0;31m#It cause error\u001b[0m\u001b[0;34m\u001b[0m\u001b[0;34m\u001b[0m\u001b[0m\n\u001b[0m\u001b[1;32m     13\u001b[0m \u001b[0;34m\u001b[0m\u001b[0m\n\u001b[1;32m     14\u001b[0m \u001b[0;34m\u001b[0m\u001b[0m\n",
            "\u001b[0;31mTypeError\u001b[0m: 'tuple' object does not support item assignment"
          ]
        }
      ]
    },
    {
      "cell_type": "code",
      "source": [
        "#6-> Write a function to demonstrate the behavior of mutable and immutable arguments.\n",
        "\n",
        "def update_values(my_string, my_set):\n",
        "    # Immutable string: reassignment creates a new object\n",
        "    my_string += \" world\"\n",
        "    print(f\"Inside function - my_string: {my_string}\")\n",
        "\n",
        "    # Mutable set: modification changes the original object\n",
        "    my_set.add(\"new_element\")\n",
        "    print(f\"Inside function - my_set: {my_set}\")\n",
        "\n",
        "# Outside the function\n",
        "original_string = \"hello\"\n",
        "original_set = {\"initial\"}\n",
        "\n",
        "update_values(original_string, original_set)\n",
        "\n",
        "print(f\"Outside function - original_string: {original_string}\")  # Unchanged\n",
        "print(f\"Outside function - original_set: {original_set}\")        # Changed"
      ],
      "metadata": {
        "id": "WWfQ9i7aii10",
        "colab": {
          "base_uri": "https://localhost:8080/"
        },
        "outputId": "63c495bf-d521-4539-ecf2-181bb759a1c1"
      },
      "execution_count": null,
      "outputs": [
        {
          "output_type": "stream",
          "name": "stdout",
          "text": [
            "Inside function - my_string: hello world\n",
            "Inside function - my_set: {'new_element', 'initial'}\n",
            "Outside function - original_string: hello\n",
            "Outside function - original_set: {'new_element', 'initial'}\n"
          ]
        }
      ]
    },
    {
      "cell_type": "code",
      "source": [
        "#7-Write a program that performs basic arithmetic operations on two user-input numbers.\n",
        "\n",
        "Number1=int(input(\"enter your number\"))\n",
        "number2=int(input(\"enter your number\"))\n",
        "\n",
        "print(\"Addition is\",Number1+number2)\n",
        "print(\"Subtraction is\",Number1-number2)\n",
        "print(\"Multiplication is\",Number1*number2)\n",
        "print(\"Division is\",Number1/number2)"
      ],
      "metadata": {
        "colab": {
          "base_uri": "https://localhost:8080/"
        },
        "id": "Iv1rgHm1r0Vr",
        "outputId": "92808070-c539-4aa1-9251-3e7c24c29865"
      },
      "execution_count": null,
      "outputs": [
        {
          "output_type": "stream",
          "name": "stdout",
          "text": [
            "enter your number23\n",
            "enter your number10\n",
            "Addition is 33\n",
            "Subtraction is 13\n",
            "Multiplication is 230\n",
            "Division is 2.3\n"
          ]
        }
      ]
    },
    {
      "cell_type": "code",
      "source": [
        "#8 Write a program to demonstrate the use of logical operators.\n",
        "\n",
        "number1= int(input(\"enter number1:\"))\n",
        "number2= int(input(\"enter number2:\"))\n",
        "operators=input(\"enter operator:\")\n",
        "if operators==\"+\":\n",
        "  print(\"your answer is:\",number1+number2)\n",
        "elif operators==\"-\":\n",
        "  print(number1-number2)\n",
        "elif operators==\"*\":\n",
        "  print(\"your answer is:\",number1*number2)\n",
        "elif operators==\"/\":\n",
        "  print(\"your answer is:\",number1/number2)\n",
        "else:\n",
        "  print(\"invalid operator\")"
      ],
      "metadata": {
        "colab": {
          "base_uri": "https://localhost:8080/"
        },
        "id": "30u3VoRKtAIn",
        "outputId": "63671bb9-793c-40c6-f39c-0a574ba0e876"
      },
      "execution_count": null,
      "outputs": [
        {
          "output_type": "stream",
          "name": "stdout",
          "text": [
            "enter number1:65\n",
            "enter number2:10\n",
            "enter operator:*\n",
            "your answer is: 650\n"
          ]
        }
      ]
    },
    {
      "cell_type": "code",
      "source": [
        "#9- Write a Python program to convert user input from string to integer, float, and boolean types.\n",
        "\n",
        "user_input = input(\"Enter a value: \")\n",
        "\n",
        "# Convert to integer\n",
        "try:\n",
        "    int_value = int(user_input)\n",
        "    print(\"Integer:\", int_value)\n",
        "except ValueError:\n",
        "    print(\"Cannot convert to Integer\")\n",
        "\n",
        "# Convert to float\n",
        "try:\n",
        "    float_value = float(user_input)\n",
        "    print(\"Float:\", float_value)\n",
        "except ValueError:\n",
        "    print(\"Cannot convert to Float\")\n",
        "\n",
        "# Convert to boolean\n",
        "bool_value = user_input.strip().lower() not in ('', '0', 'false')\n",
        "print(\"Boolean:\", bool_value)\n"
      ],
      "metadata": {
        "colab": {
          "base_uri": "https://localhost:8080/"
        },
        "id": "FzBmokIhvids",
        "outputId": "c8d69b88-eebc-4350-e3ce-132656b5628e"
      },
      "execution_count": null,
      "outputs": [
        {
          "output_type": "stream",
          "name": "stdout",
          "text": [
            "Enter a value: 3\n",
            "Integer: 3\n",
            "Float: 3.0\n",
            "Boolean: True\n"
          ]
        }
      ]
    },
    {
      "cell_type": "code",
      "source": [
        "#10-Write code to demonstrate type casting with list elements.\n",
        "\n",
        "# List of strings\n",
        "string_list = ['1', '2', '3','0',]\n",
        "\n",
        "# Convert each element to integer\n",
        "int_list = [int(x) for x in string_list]\n",
        "\n",
        "# Convert each element to float\n",
        "float_list = [float(x) for x in string_list]\n",
        "\n",
        "# Convert each element to boolean\n",
        "bool_list = [bool(int(x)) for x in string_list]\n",
        "\n",
        "# Print results\n",
        "print(\"Original list:\", string_list)\n",
        "print(\"As Integers:\", int_list)\n",
        "print(\"As Floats:\", float_list)\n",
        "print(\"As Booleans:\", bool_list)\n"
      ],
      "metadata": {
        "colab": {
          "base_uri": "https://localhost:8080/"
        },
        "id": "9JnNhjy33EpC",
        "outputId": "9caaefe6-7d17-4001-92c9-c002a1e0b2bc"
      },
      "execution_count": null,
      "outputs": [
        {
          "output_type": "stream",
          "name": "stdout",
          "text": [
            "Original list: ['1', '2', '3', '0']\n",
            "As Integers: [1, 2, 3, 0]\n",
            "As Floats: [1.0, 2.0, 3.0, 0.0]\n",
            "As Booleans: [True, True, True, False]\n"
          ]
        }
      ]
    },
    {
      "cell_type": "code",
      "source": [
        "#11- Write a program that checks if a number is positive, negative, or zero.\n",
        "\n",
        "number=int(input(\"enter your number\"))\n",
        "if number>0:\n",
        "  print(\"number is positive\")\n",
        "elif number<0:\n",
        "  print(\"number is negative\")\n",
        "else:\n",
        "  print(\"number is zero\")"
      ],
      "metadata": {
        "colab": {
          "base_uri": "https://localhost:8080/"
        },
        "id": "WdG1QcbZ4xj4",
        "outputId": "016a5fb6-2893-449d-8568-4e2c719a2466"
      },
      "execution_count": null,
      "outputs": [
        {
          "output_type": "stream",
          "name": "stdout",
          "text": [
            "enter your number-9\n",
            "number is negative\n"
          ]
        }
      ]
    },
    {
      "cell_type": "code",
      "source": [
        "#12-Write a for loop to print numbers from 1 to 10.\n",
        "for i in range(1,11):\n",
        "  print(i)"
      ],
      "metadata": {
        "colab": {
          "base_uri": "https://localhost:8080/"
        },
        "id": "aVGlJrtE5xO5",
        "outputId": "a607e32b-1bed-4e99-819c-fe8e4e74d91c"
      },
      "execution_count": null,
      "outputs": [
        {
          "output_type": "stream",
          "name": "stdout",
          "text": [
            "1\n",
            "2\n",
            "3\n",
            "4\n",
            "5\n",
            "6\n",
            "7\n",
            "8\n",
            "9\n",
            "10\n"
          ]
        }
      ]
    },
    {
      "cell_type": "code",
      "source": [
        "#13- Write a Python program to find the sum of all even numbers between 1 and 50.\n",
        "\n",
        "sum_of_even_numbers = 0\n",
        "\n",
        "for number in range(2, 51, 2):\n",
        "    sum_of_even_numbers += number\n",
        "\n",
        "print(\"The sum of even numbers from 1 to 50 is:\", sum_of_even_numbers)\n"
      ],
      "metadata": {
        "colab": {
          "base_uri": "https://localhost:8080/"
        },
        "id": "LsfYsgXa6QHQ",
        "outputId": "f761ba58-6fdd-4c11-d929-67d69a3d2318"
      },
      "execution_count": null,
      "outputs": [
        {
          "output_type": "stream",
          "name": "stdout",
          "text": [
            "The sum of even numbers from 1 to 50 is: 650\n"
          ]
        }
      ]
    },
    {
      "cell_type": "code",
      "source": [
        "#14-Write a program to reverse a string using a while loop\n",
        "\n",
        "OG_string = input(\"Enter a string: \")\n",
        "\n",
        "# Initialize variables\n",
        "reversed_string = \"\"\n",
        "index = len(OG_string) - 1\n",
        "\n",
        "# Reverse using while loop\n",
        "while index >= 0:\n",
        "    reversed_string += OG_string[index]\n",
        "    index -= 1\n",
        "\n",
        "print(\"Reversed string:\", reversed_string)\n"
      ],
      "metadata": {
        "id": "hwrRnlIM6025",
        "colab": {
          "base_uri": "https://localhost:8080/"
        },
        "outputId": "d52e101b-4677-4e94-82fa-3e9c2748ee98"
      },
      "execution_count": 2,
      "outputs": [
        {
          "output_type": "stream",
          "name": "stdout",
          "text": [
            "Enter a string: Gunjan\n",
            "Reversed string: najnuG\n"
          ]
        }
      ]
    },
    {
      "cell_type": "code",
      "source": [
        "#15- Write a Python program to calculate the factorial of a number provided by the user using a while loop\n",
        "\n",
        "num = int(input(\"Enter a non-negative integer: \"))\n",
        "\n",
        "if num < 0: #checking\n",
        "    print(\"Factorial is not defined for negative numbers.\")\n",
        "else:\n",
        "    factorial = 1\n",
        "    i = 1\n",
        "\n",
        "    #while loop\n",
        "    while i <= num:\n",
        "        factorial *= i\n",
        "        i += 1\n",
        "\n",
        "    print(f\"The factorial of {num} is {factorial}\")\n"
      ],
      "metadata": {
        "colab": {
          "base_uri": "https://localhost:8080/"
        },
        "id": "qf9TnM_jbg-x",
        "outputId": "4d77ae8d-e798-4ddf-845f-b6d6244c68e9"
      },
      "execution_count": 3,
      "outputs": [
        {
          "output_type": "stream",
          "name": "stdout",
          "text": [
            "Enter a non-negative integer: 8\n",
            "The factorial of 8 is 40320\n"
          ]
        }
      ]
    }
  ]
}